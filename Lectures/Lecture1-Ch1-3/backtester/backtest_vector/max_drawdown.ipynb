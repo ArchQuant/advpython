{
 "cells": [
  {
   "cell_type": "markdown",
   "id": "6e3d4033-586e-43d1-a3ca-3e3c859d7eea",
   "metadata": {},
   "source": [
    "# Maximum drawdown"
   ]
  },
  {
   "cell_type": "code",
   "execution_count": 21,
   "id": "79c6e7c3-7bb1-441a-951d-13cb4135ecb3",
   "metadata": {},
   "outputs": [],
   "source": [
    "import pandas as pd\n",
    "import numpy as np\n",
    "raw = pd.read_csv('../data/pyalgo_eikon_eod_data.csv',\n",
    "                 index_col=0, parse_dates=True).dropna()\n",
    "data = pd.DataFrame(raw['EUR='])\n",
    "data.rename(columns={'EUR=': 'price'}, inplace=True)\n",
    "data['SMA1'] = data['price'].rolling(42).mean()\n",
    "data['SMA2'] = data['price'].rolling(252).mean()\n",
    "data.tail()\n",
    "data['position'] = np.where(data['SMA1'] > data['SMA2'], 1, -1)\n",
    "data.dropna(inplace=True)\n",
    "data['returns'] = np.log(data['price'] / data['price'].shift(1))\n",
    "data['strategy'] = data['position'].shift(1) * data['returns']"
   ]
  },
  {
   "cell_type": "markdown",
   "id": "2f7a6400-9778-4bb5-a500-dd478d1e2ffc",
   "metadata": {},
   "source": [
    "### Cumulative return"
   ]
  },
  {
   "cell_type": "code",
   "execution_count": null,
   "id": "2648bfaf-4dbc-4d13-972c-510948612d1c",
   "metadata": {},
   "outputs": [],
   "source": [
    "data['cumret'] = data['strategy'].cumsum().apply(np.exp)\n",
    "data['cumret'].plot(title='cumulative return', figsize=(10, 6));"
   ]
  },
  {
   "cell_type": "code",
   "execution_count": null,
   "id": "565576f7-b27a-4ec0-b229-f91faae7fc92",
   "metadata": {},
   "outputs": [],
   "source": [
    "data['cummax'] = data['cumret'].cummax()\n",
    "data['cummax'].plot(title='cumulative maximum return', figsize=(10, 6));"
   ]
  },
  {
   "cell_type": "code",
   "execution_count": null,
   "id": "96320637-f2f8-4bb9-a7df-0bf661086c8a",
   "metadata": {},
   "outputs": [],
   "source": [
    "data[['cumret', 'cummax']].dropna().plot(title='cumulative return and maximum', figsize=(10, 6));"
   ]
  },
  {
   "cell_type": "markdown",
   "id": "1a51be44-97af-4d5b-acb0-9f4a67d18edd",
   "metadata": {},
   "source": [
    "### Maximum drawdown"
   ]
  },
  {
   "cell_type": "code",
   "execution_count": null,
   "id": "5a6605fe-2471-4c84-8d9c-2dd976e1e5c2",
   "metadata": {},
   "outputs": [],
   "source": [
    "drawdown = data['cummax'] - data['cumret']\n",
    "drawdown.max()"
   ]
  },
  {
   "cell_type": "code",
   "execution_count": null,
   "id": "ae2daafe-d287-497f-b0a5-3002bfafe9b2",
   "metadata": {},
   "outputs": [],
   "source": [
    "drawdown.plot()"
   ]
  },
  {
   "cell_type": "markdown",
   "id": "43f2ba2d-3690-4c16-9ca6-7e12969d29bd",
   "metadata": {},
   "source": [
    "### Longest drawdown period (time under water)"
   ]
  },
  {
   "cell_type": "markdown",
   "id": "9b6ef84f-7715-4d9e-a01e-10e74c5ad40c",
   "metadata": {},
   "source": [
    "#### Periods between dates at which a new maximum is set "
   ]
  },
  {
   "cell_type": "code",
   "execution_count": null,
   "id": "9c58212b-f2c0-453b-888c-1490c0744d56",
   "metadata": {},
   "outputs": [],
   "source": [
    "dates_for_max = drawdown[drawdown == 0]\n",
    "dates_for_max"
   ]
  },
  {
   "cell_type": "code",
   "execution_count": 18,
   "id": "bfbe1856-45e6-448d-badf-c9f083fb689e",
   "metadata": {},
   "outputs": [],
   "source": [
    "period_lengths = (dates_for_max.index[1:].to_pydatetime() -\n",
    "                 dates_for_max.index[:-1].to_pydatetime())"
   ]
  },
  {
   "cell_type": "code",
   "execution_count": null,
   "id": "569b8c46-31aa-4664-a97b-ce29661cdc46",
   "metadata": {},
   "outputs": [],
   "source": [
    "period_lengths[2:5]"
   ]
  },
  {
   "cell_type": "code",
   "execution_count": null,
   "id": "1a5a6498-160f-492b-af5a-8c6e0fbe8ee1",
   "metadata": {},
   "outputs": [],
   "source": [
    "period_lengths.max()"
   ]
  },
  {
   "cell_type": "code",
   "execution_count": null,
   "id": "1aceda3f",
   "metadata": {},
   "outputs": [],
   "source": []
  }
 ],
 "metadata": {
  "kernelspec": {
   "display_name": "Python 3 (ipykernel)",
   "language": "python",
   "name": "python3"
  },
  "language_info": {
   "codemirror_mode": {
    "name": "ipython",
    "version": 3
   },
   "file_extension": ".py",
   "mimetype": "text/x-python",
   "name": "python",
   "nbconvert_exporter": "python",
   "pygments_lexer": "ipython3",
   "version": "3.9.18"
  }
 },
 "nbformat": 4,
 "nbformat_minor": 5
}
