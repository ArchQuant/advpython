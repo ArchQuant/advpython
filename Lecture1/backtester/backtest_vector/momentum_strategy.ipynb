{
 "cells": [
  {
   "cell_type": "markdown",
   "id": "1f7ed54e-c15d-4f46-b2c0-c7e6b67aa7ee",
   "metadata": {},
   "source": [
    "# Momentum strategies"
   ]
  },
  {
   "cell_type": "code",
   "execution_count": null,
   "id": "b16b70ac-b8f0-4a78-8f86-cf041a9d2158",
   "metadata": {},
   "outputs": [],
   "source": [
    "import pandas as pd\n",
    "import numpy as np\n",
    "raw = pd.read_csv('../data/pyalgo_eikon_eod_data.csv',\n",
    "                 index_col=0, parse_dates=True).dropna()\n",
    "data = pd.DataFrame(raw['XAU='])\n",
    "data.rename(columns={'XAU=': 'price'}, inplace=True)\n",
    "data.head()"
   ]
  },
  {
   "cell_type": "code",
   "execution_count": null,
   "id": "200dafa5",
   "metadata": {},
   "outputs": [],
   "source": [
    "data['price'].plot(figsize=(10,6))"
   ]
  },
  {
   "cell_type": "code",
   "execution_count": null,
   "id": "8578704d-321a-43c6-a2b8-6b235b4f1ffb",
   "metadata": {},
   "outputs": [],
   "source": [
    "data['returns'] = np.log(data['price'] / data['price'].shift(1))\n",
    "data['returns'].plot(figsize=(10,6))"
   ]
  },
  {
   "cell_type": "markdown",
   "id": "3b5b4146-4ba4-45f0-98bc-fa2115f1ec30",
   "metadata": {},
   "source": [
    "### Naive approach using the yesterday's return"
   ]
  },
  {
   "cell_type": "code",
   "execution_count": null,
   "id": "94eb8f34-456c-4f9d-8ca2-1e3df923740f",
   "metadata": {},
   "outputs": [],
   "source": [
    "data['position'] = np.sign(data['returns'])\n",
    "data['strategy'] = data['position'].shift(1) * data['returns']\n",
    "data[['strategy', 'returns']].dropna().cumsum().apply(np.exp).plot(figsize=(10, 6))"
   ]
  },
  {
   "cell_type": "markdown",
   "id": "e54ba907-f5b4-4113-a369-ab6d23492792",
   "metadata": {},
   "source": [
    "### Momentum of the last three returns"
   ]
  },
  {
   "cell_type": "code",
   "execution_count": null,
   "id": "3881b21f-9438-40e3-95ae-0f79948f085a",
   "metadata": {},
   "outputs": [],
   "source": [
    "data['position'] = np.sign(data['returns'].rolling(3).mean())\n",
    "data.head(10)"
   ]
  },
  {
   "cell_type": "code",
   "execution_count": null,
   "id": "e4bc9109-1ede-4534-9d53-d485d8350362",
   "metadata": {},
   "outputs": [],
   "source": [
    "data['strategy'] = data['position'].shift(1) * data['returns']\n",
    "data.head()"
   ]
  },
  {
   "cell_type": "code",
   "execution_count": null,
   "id": "2433e230-f618-48d3-9e71-4bc41a781b75",
   "metadata": {},
   "outputs": [],
   "source": [
    "data[['strategy', 'returns']].dropna().cumsum().apply(np.exp).plot(figsize=(10, 6));"
   ]
  }
 ],
 "metadata": {
  "kernelspec": {
   "display_name": "Python 3 (ipykernel)",
   "language": "python",
   "name": "python3"
  },
  "language_info": {
   "codemirror_mode": {
    "name": "ipython",
    "version": 3
   },
   "file_extension": ".py",
   "mimetype": "text/x-python",
   "name": "python",
   "nbconvert_exporter": "python",
   "pygments_lexer": "ipython3",
   "version": "3.9.18"
  }
 },
 "nbformat": 4,
 "nbformat_minor": 5
}
