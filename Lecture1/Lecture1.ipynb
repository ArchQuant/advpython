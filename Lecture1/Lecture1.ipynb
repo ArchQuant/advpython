{
 "cells": [
  {
   "cell_type": "code",
   "execution_count": 29,
   "metadata": {},
   "outputs": [],
   "source": [
    "import numpy as np\n",
    "from timeit import timeit"
   ]
  },
  {
   "cell_type": "markdown",
   "metadata": {},
   "source": [
    "## timeit"
   ]
  },
  {
   "cell_type": "code",
   "execution_count": null,
   "metadata": {},
   "outputs": [],
   "source": [
    "# different data structures\n",
    "\n",
    "N_LOOP = 30_000_000\n",
    "def list_comp():\n",
    "    return [x * 2 for x in range(N_LOOP)]\n",
    "\n",
    "def set_comp():\n",
    "    return {x * 2 for x in range(N_LOOP)}\n",
    "\n",
    "def dict_comp():\n",
    "    return {x : x * 2 for x in range(N_LOOP)}\n",
    "\n",
    "def gen_comp():\n",
    "    return (x * 2 for x in range(N_LOOP))\n",
    "\n",
    "def numpy_array():\n",
    "    return np.arange(N_LOOP) * 2\n",
    "\n",
    "print('list comprehension \\t\\t', timeit(list_comp, number=1))\n",
    "print('set comprehension \\t\\t', timeit(set_comp, number=1))\n",
    "print('dict comprehension \\t\\t', timeit(dict_comp, number=1))\n",
    "print('gen comprehension \\t\\t', timeit(gen_comp, number=1))\n",
    "print('numpy array \\t\\t\\t', timeit(numpy_array, number=1))"
   ]
  },
  {
   "cell_type": "code",
   "execution_count": null,
   "metadata": {},
   "outputs": [],
   "source": [
    "g = gen_comp()\n",
    "next(g)\n",
    "# sum(next(g) for _ in range(5))"
   ]
  },
  {
   "cell_type": "code",
   "execution_count": null,
   "metadata": {},
   "outputs": [],
   "source": [
    "# what is the fastest loop?\n",
    "\n",
    "N_LOOP = 100_000_000\n",
    "\n",
    "def while_loop(n=N_LOOP):\n",
    "    s = 0\n",
    "    i = 0\n",
    "    while i < n:\n",
    "        s += i\n",
    "        i += 1\n",
    "    return s\n",
    "\n",
    "def for_loop(n=N_LOOP):\n",
    "    s = 0\n",
    "    for i in range(n):\n",
    "        s += i\n",
    "    return s\n",
    "\n",
    "def sum_range(n=N_LOOP):\n",
    "    return sum(range(n))\n",
    "\n",
    "def sum_numpy(n=N_LOOP):\n",
    "    return np.sum(np.arange(n))\n",
    "\n",
    "print('while loop \\t\\t', timeit(while_loop, number=1))\n",
    "print('for loop \\t\\t', timeit(for_loop, number=1))\n",
    "print('sum range \\t\\t', timeit(sum_range, number=1))\n",
    "print('sum numpy \\t\\t', timeit(sum_numpy, number=1))"
   ]
  },
  {
   "cell_type": "markdown",
   "metadata": {},
   "source": [
    "## pytest-benchmark"
   ]
  },
  {
   "cell_type": "code",
   "execution_count": null,
   "metadata": {},
   "outputs": [],
   "source": [
    "# run pytest_demo.py"
   ]
  },
  {
   "cell_type": "markdown",
   "metadata": {},
   "source": [
    "## memory_profiler"
   ]
  },
  {
   "cell_type": "code",
   "execution_count": 2,
   "metadata": {},
   "outputs": [],
   "source": [
    "%load_ext memory_profiler"
   ]
  },
  {
   "cell_type": "code",
   "execution_count": null,
   "metadata": {},
   "outputs": [],
   "source": [
    "# generator, memit\n",
    "\n",
    "import itertools\n",
    "N_LOOP = 1_000_000\n",
    "\n",
    "def loop(): \n",
    "    res = [] \n",
    "    for i in range(N_LOOP): \n",
    "        res.append(i * i) \n",
    "    return sum(res) \n",
    " \n",
    "def comprehension(): \n",
    "    return sum([i * i for i in range(N_LOOP)]) \n",
    " \n",
    "def generator(): \n",
    "    return sum(i * i for i in range(N_LOOP)) \n",
    "\n",
    "def itertools_count():\n",
    "    counter = itertools.count(start=0, step=1)\n",
    "    return sum(next(counter) ** 2 for _ in range(N_LOOP))\n",
    "\n",
    "%memit loop() \n",
    "%memit comprehension() \n",
    "%memit generator()\n",
    "%memit itertools_count()"
   ]
  },
  {
   "cell_type": "code",
   "execution_count": null,
   "metadata": {},
   "outputs": [],
   "source": [
    "# map\n",
    "import os\n",
    "RANGE = range(100_000)\n",
    "\n",
    "def comprehension():\n",
    "    a = [n * 2 for n in RANGE]\n",
    "    b = [n ** 2 for n in a]\n",
    "    c = [n ** 0.33 for n in b]\n",
    "    return max(c)\n",
    "\n",
    "def map_normal():\n",
    "    a = map(lambda n: n * 2, RANGE)\n",
    "    b = map(lambda n: n ** 2, a)\n",
    "    c = map(lambda n: n ** 0.33, b)\n",
    "    return max(c)\n",
    "\n",
    "%memit comprehension()\n",
    "%memit map_normal()"
   ]
  },
  {
   "cell_type": "code",
   "execution_count": null,
   "metadata": {},
   "outputs": [],
   "source": [
    "import requests\n",
    "print(requests.get(\"https://google.com\").text)"
   ]
  },
  {
   "cell_type": "markdown",
   "metadata": {},
   "source": [
    "## cache"
   ]
  },
  {
   "cell_type": "code",
   "execution_count": null,
   "metadata": {},
   "outputs": [],
   "source": [
    "from timeit import Timer\n",
    "N_MAX = 35\n",
    "def fib(n):\n",
    "    if n <= 1:\n",
    "        return n\n",
    "    return fib(n - 1) + fib(n - 2)\n",
    "\n",
    "from functools import lru_cache\n",
    "\n",
    "@lru_cache(maxsize=5)\n",
    "def fib_cached(n):\n",
    "    if n <= 1:\n",
    "        return n\n",
    "    return fib_cached(n - 1) + fib_cached(n - 2)\n",
    "\n",
    "\n",
    "t_fib = Timer(lambda: fib(N_MAX))\n",
    "t_fib_cached = Timer(lambda: fib_cached(N_MAX))\n",
    "print('original function \\t\\t', t_fib.timeit(1))\n",
    "print('cached function \\t\\t', t_fib_cached.timeit(1))"
   ]
  },
  {
   "cell_type": "code",
   "execution_count": null,
   "metadata": {},
   "outputs": [],
   "source": []
  }
 ],
 "metadata": {
  "kernelspec": {
   "display_name": "tf",
   "language": "python",
   "name": "python3"
  },
  "language_info": {
   "codemirror_mode": {
    "name": "ipython",
    "version": 3
   },
   "file_extension": ".py",
   "mimetype": "text/x-python",
   "name": "python",
   "nbconvert_exporter": "python",
   "pygments_lexer": "ipython3",
   "version": "3.9.18"
  }
 },
 "nbformat": 4,
 "nbformat_minor": 2
}
